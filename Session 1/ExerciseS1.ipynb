{
  "nbformat": 4,
  "nbformat_minor": 0,
  "metadata": {
    "colab": {
      "provenance": [],
      "authorship_tag": "ABX9TyOPy9z1pp7OGcAPfHF7+rjP",
      "include_colab_link": true
    },
    "kernelspec": {
      "name": "python3",
      "display_name": "Python 3"
    },
    "language_info": {
      "name": "python"
    }
  },
  "cells": [
    {
      "cell_type": "markdown",
      "metadata": {
        "id": "view-in-github",
        "colab_type": "text"
      },
      "source": [
        "<a href=\"https://colab.research.google.com/github/Grinder7/GoogleColab/blob/main/Session%201/ExerciseS1.ipynb\" target=\"_parent\"><img src=\"https://colab.research.google.com/assets/colab-badge.svg\" alt=\"Open In Colab\"/></a>"
      ]
    },
    {
      "cell_type": "code",
      "execution_count": 1,
      "metadata": {
        "colab": {
          "base_uri": "https://localhost:8080/"
        },
        "id": "H9xYuY6nHWac",
        "outputId": "8838f501-d111-4425-cab6-34767bd5d788"
      },
      "outputs": [
        {
          "output_type": "stream",
          "name": "stdout",
          "text": [
            "Enter the first number: 4\n",
            "Enter the second number: 6\n",
            "The larger number is: 6\n"
          ]
        }
      ],
      "source": [
        "x = int(input(\"Enter the first number: \"))\n",
        "y = int(input(\"Enter the second number: \"))\n",
        "print(\"The larger number is: \", end=\"\")\n",
        "print(x) if x > y else print(y)"
      ]
    },
    {
      "cell_type": "code",
      "source": [
        "nilai  = int(input(\"Input nilai: \"))\n",
        "print() # Spacing\n",
        "if nilai > 80: \n",
        "  print(\"Selamat, Anda Lulus\")\n",
        "elif nilai > 60: \n",
        "  print(\"Mengulang Sebagian\")\n",
        "elif nilai > 40:\n",
        "  print(\"Mengulang Keseluruhan\")\n",
        "else:\n",
        "  print(\"Tidak Lulus\")"
      ],
      "metadata": {
        "colab": {
          "base_uri": "https://localhost:8080/"
        },
        "id": "Gzvp4FdUISD_",
        "outputId": "0e8a4a61-eafc-44b2-f341-a6d03b8c98c2"
      },
      "execution_count": 5,
      "outputs": [
        {
          "output_type": "stream",
          "name": "stdout",
          "text": [
            "Input nilai: 90\n",
            "\n",
            "Selamat, Anda Lulus\n"
          ]
        }
      ]
    },
    {
      "cell_type": "code",
      "source": [
        "x,y=[int(_) for _ in input(\"Masukkan titik x dan y: \").replace(\"(\",\"\").replace(\")\",\"\").replace(\",\",\" \").split(\" \")]\n",
        "\n",
        "if x > 0:\n",
        "  if y > 0:\n",
        "    kuadran = 'I'\n",
        "  else:\n",
        "    kuadran  = 'III'\n",
        "else :\n",
        "  if y > 0:\n",
        "    kuadran = 'II'\n",
        "  else:\n",
        "    kuadran = 'IV'\n",
        "\n",
        "if x > 0 and y > 0:\n",
        "  kuadran = 'I'\n",
        "elif x < 0 and y > 0:\n",
        "  kuadran = 'II'\n",
        "elif x < 0 and y < 0:\n",
        "  kuadran = 'III'\n",
        "elif x > 0 and y < 0:\n",
        "  kuadran = 'IV'\n",
        "else:\n",
        "  kuadran = 'tidak termasuk kuadran manapun'\n",
        "\n",
        "print(\"Kuadran :\", kuadran)"
      ],
      "metadata": {
        "colab": {
          "base_uri": "https://localhost:8080/"
        },
        "id": "VTYPskeYJDSW",
        "outputId": "552b64d4-23e3-417f-d935-e2b18f887486"
      },
      "execution_count": 24,
      "outputs": [
        {
          "output_type": "stream",
          "name": "stdout",
          "text": [
            "Masukkan titik x dan y: 10 -20\n",
            "Kuadran : IV\n"
          ]
        }
      ]
    }
  ]
}