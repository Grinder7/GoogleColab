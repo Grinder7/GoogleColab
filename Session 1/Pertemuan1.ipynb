{
  "nbformat": 4,
  "nbformat_minor": 0,
  "metadata": {
    "colab": {
      "provenance": [],
      "authorship_tag": "ABX9TyNacTGgmV9oexqj1oieK+LK",
      "include_colab_link": true
    },
    "kernelspec": {
      "name": "python3",
      "display_name": "Python 3"
    },
    "language_info": {
      "name": "python"
    }
  },
  "cells": [
    {
      "cell_type": "markdown",
      "metadata": {
        "id": "view-in-github",
        "colab_type": "text"
      },
      "source": [
        "<a href=\"https://colab.research.google.com/github/Grinder7/GoogleColab/blob/main/Session%201/Pertemuan1.ipynb\" target=\"_parent\"><img src=\"https://colab.research.google.com/assets/colab-badge.svg\" alt=\"Open In Colab\"/></a>"
      ]
    },
    {
      "cell_type": "code",
      "source": [
        "import time\n",
        "print(time.ctime())"
      ],
      "metadata": {
        "colab": {
          "base_uri": "https://localhost:8080/"
        },
        "id": "RuzSFObv_uRr",
        "outputId": "0533cf2c-5811-4960-e60b-65179a84ea4a"
      },
      "execution_count": null,
      "outputs": [
        {
          "output_type": "stream",
          "name": "stdout",
          "text": [
            "Thu Feb 16 06:56:59 2023\n"
          ]
        }
      ]
    },
    {
      "cell_type": "markdown",
      "source": [
        "This is a text :v"
      ],
      "metadata": {
        "id": "Xsp8iZHoAPBZ"
      }
    },
    {
      "cell_type": "code",
      "source": [
        "x = 1\n",
        "x = x + 1\n",
        "print(f\"x = {x}\")"
      ],
      "metadata": {
        "colab": {
          "base_uri": "https://localhost:8080/"
        },
        "id": "ttMK9OM-Au99",
        "outputId": "72aa7b67-5a85-4bf8-c03d-621595a796e0"
      },
      "execution_count": null,
      "outputs": [
        {
          "output_type": "stream",
          "name": "stdout",
          "text": [
            "x = 2\n"
          ]
        }
      ]
    },
    {
      "cell_type": "code",
      "source": [
        "x = 1\n",
        "y = x + 1\n",
        "x = 2\n",
        "y\n",
        "print(f\"x = {x}, y = {y}\")"
      ],
      "metadata": {
        "colab": {
          "base_uri": "https://localhost:8080/"
        },
        "id": "yRV1IXFgBo9Z",
        "outputId": "f96498ca-50c5-45da-acbc-f2047ec8889f"
      },
      "execution_count": null,
      "outputs": [
        {
          "output_type": "stream",
          "name": "stdout",
          "text": [
            "x = 2, y = 2\n"
          ]
        }
      ]
    },
    {
      "cell_type": "code",
      "source": [
        "x = print(\"SC\")"
      ],
      "metadata": {
        "colab": {
          "base_uri": "https://localhost:8080/"
        },
        "id": "-OJj1aXcC03D",
        "outputId": "941efdd1-5ad1-4498-aa36-9ff5f653600d"
      },
      "execution_count": null,
      "outputs": [
        {
          "output_type": "stream",
          "name": "stdout",
          "text": [
            "SC\n"
          ]
        }
      ]
    },
    {
      "cell_type": "code",
      "source": [
        "import numpy as np\n",
        "x = np.array([1,4,3])\n",
        "# x = [1,4,3]\n",
        "x\n",
        "# print(x)"
      ],
      "metadata": {
        "colab": {
          "base_uri": "https://localhost:8080/"
        },
        "id": "iw72DPbGDs6x",
        "outputId": "46b7e9a3-3438-4673-e318-605a03417d16"
      },
      "execution_count": null,
      "outputs": [
        {
          "output_type": "execute_result",
          "data": {
            "text/plain": [
              "array([1, 4, 3])"
            ]
          },
          "metadata": {},
          "execution_count": 40
        }
      ]
    },
    {
      "cell_type": "code",
      "source": [
        "y = np.array([[1,4,3], [9,2,7]])\n",
        "# y = [[1,4,3], [9,2,7]]\n",
        "y\n",
        "# print(y)"
      ],
      "metadata": {
        "colab": {
          "base_uri": "https://localhost:8080/"
        },
        "id": "FgEb7AFgFDkW",
        "outputId": "a0626c72-1df6-4adb-ae73-d00646baf1a6"
      },
      "execution_count": null,
      "outputs": [
        {
          "output_type": "execute_result",
          "data": {
            "text/plain": [
              "array([[1, 4, 3],\n",
              "       [9, 2, 7]])"
            ]
          },
          "metadata": {},
          "execution_count": 41
        }
      ]
    },
    {
      "cell_type": "code",
      "source": [
        "y = 3\n",
        "x = [[0 for _ in range(y)] for _ in range(y)]\n",
        "x"
      ],
      "metadata": {
        "colab": {
          "base_uri": "https://localhost:8080/"
        },
        "id": "ecfDJT9uGX47",
        "outputId": "2d156f1c-46eb-4107-f623-69252b885f74"
      },
      "execution_count": null,
      "outputs": [
        {
          "output_type": "execute_result",
          "data": {
            "text/plain": [
              "[[0, 0, 0], [0, 0, 0], [0, 0, 0]]"
            ]
          },
          "metadata": {},
          "execution_count": 43
        }
      ]
    },
    {
      "cell_type": "code",
      "source": [
        "def sum(a: int, b: int, c: int) -> int:\n",
        "    \"\"\"\n",
        "    Return a sum of 3 variable\n",
        "    Input: 3 number a, b, c\n",
        "    Output: The sum of a, b, c\n",
        "    \"\"\"\n",
        "\n",
        "    # This is the summation\n",
        "    res = a+b+c\n",
        "\n",
        "    return res\n",
        "help(sum)"
      ],
      "metadata": {
        "colab": {
          "base_uri": "https://localhost:8080/"
        },
        "id": "aDHL1SyGG4YB",
        "outputId": "491f850c-8b14-41e8-aa0f-106fe271bfd3"
      },
      "execution_count": null,
      "outputs": [
        {
          "output_type": "stream",
          "name": "stdout",
          "text": [
            "Help on function sum in module __main__:\n",
            "\n",
            "sum(a: int, b: int, c: int) -> int\n",
            "    Return a sum of 3 variable\n",
            "    Input: 3 number a, b, c\n",
            "    Output: The sum of a, b, c\n",
            "\n"
          ]
        }
      ]
    },
    {
      "cell_type": "code",
      "source": [
        "sum(1, 2, 3)"
      ],
      "metadata": {
        "colab": {
          "base_uri": "https://localhost:8080/"
        },
        "id": "U_fSrKZJIrpN",
        "outputId": "eb4c3d68-f6ea-4209-acf8-0489069c1147"
      },
      "execution_count": null,
      "outputs": [
        {
          "output_type": "execute_result",
          "data": {
            "text/plain": [
              "6"
            ]
          },
          "metadata": {},
          "execution_count": 50
        }
      ]
    },
    {
      "cell_type": "code",
      "source": [
        "if x > y:\n",
        "  print(\"x is larger than y\")\n",
        "else : \n",
        "  print(\"y is larger than x\")\n"
      ],
      "metadata": {
        "id": "9pUBLZiGJTQD"
      },
      "execution_count": null,
      "outputs": []
    },
    {
      "cell_type": "code",
      "source": [
        "def my_thermo_stat(temp: int,desired_temp: int)->str:\n",
        "  \"\"\"\n",
        "  This is a function to return the state of thermostat\n",
        "  Input: 2 number, current temperature and desired temperature\n",
        "  Output: State of thermostat \n",
        "  \"\"\"\n",
        "  if temp < desired_temp - 5:\n",
        "    status = 'Heat'\n",
        "  elif temp > desired_temp + 5:\n",
        "    status = \"AC\"\n",
        "  else :\n",
        "    status = \"off\"\n",
        "  return status\n",
        "help(my_thermo_stat)"
      ],
      "metadata": {
        "colab": {
          "base_uri": "https://localhost:8080/"
        },
        "id": "32JWz8ZWJ3Mz",
        "outputId": "b6315fdb-fbef-4e5d-e879-920c7091c632"
      },
      "execution_count": null,
      "outputs": [
        {
          "output_type": "stream",
          "name": "stdout",
          "text": [
            "Help on function my_thermo_stat in module __main__:\n",
            "\n",
            "my_thermo_stat(temp: int, desired_temp: int) -> str\n",
            "    This is a function to return the state of thermostat\n",
            "    Input: 2 number, current temperature and desired temperature\n",
            "    Output: State of thermostat\n",
            "\n"
          ]
        }
      ]
    },
    {
      "cell_type": "code",
      "source": [
        "my_thermo_stat(10,30)"
      ],
      "metadata": {
        "colab": {
          "base_uri": "https://localhost:8080/",
          "height": 35
        },
        "id": "RYyK13n7LXQh",
        "outputId": "9449efbd-42e6-4e4b-fdc1-0011639f29c4"
      },
      "execution_count": null,
      "outputs": [
        {
          "output_type": "execute_result",
          "data": {
            "text/plain": [
              "'Heat'"
            ],
            "application/vnd.google.colaboratory.intrinsic+json": {
              "type": "string"
            }
          },
          "metadata": {},
          "execution_count": 57
        }
      ]
    },
    {
      "cell_type": "code",
      "source": [
        "my_thermo_stat(25,20)"
      ],
      "metadata": {
        "colab": {
          "base_uri": "https://localhost:8080/",
          "height": 35
        },
        "id": "w5UZ_m5LLd23",
        "outputId": "2a43a332-4804-4178-b9b5-6699d10cde70"
      },
      "execution_count": null,
      "outputs": [
        {
          "output_type": "execute_result",
          "data": {
            "text/plain": [
              "'off'"
            ],
            "application/vnd.google.colaboratory.intrinsic+json": {
              "type": "string"
            }
          },
          "metadata": {},
          "execution_count": 58
        }
      ]
    },
    {
      "cell_type": "code",
      "source": [
        "my_thermo_stat(30,24)"
      ],
      "metadata": {
        "colab": {
          "base_uri": "https://localhost:8080/",
          "height": 35
        },
        "id": "qliItQRCKhB5",
        "outputId": "00c87908-c0e6-4464-dd47-a557c6774d17"
      },
      "execution_count": null,
      "outputs": [
        {
          "output_type": "execute_result",
          "data": {
            "text/plain": [
              "'AC'"
            ],
            "application/vnd.google.colaboratory.intrinsic+json": {
              "type": "string"
            }
          },
          "metadata": {},
          "execution_count": 54
        }
      ]
    },
    {
      "cell_type": "code",
      "source": [
        "from colorsys import yiq_to_rgb\n",
        "x = 3\n",
        "if x > 1 and x < 2:\n",
        "  y = 2\n",
        "elif x > 2 and x < 4: \n",
        "  y = 4\n",
        "else : \n",
        "  y = 0\n",
        "\n",
        "print(y)\n",
        "\n",
        "if 1 < x < 2: \n",
        "  y = 2\n",
        "elif 2 < x < 4:\n",
        "  y = 4\n",
        "else:\n",
        "  y = 0\n",
        "\n",
        "print(y)\n",
        "\n",
        "x = 1\n",
        "if x in range(1,2):\n",
        "  y = 2\n",
        "elif x in range(2,4):\n",
        "  y = 4\n",
        "else:\n",
        "  y = 0\n",
        "\n",
        "print(y)"
      ],
      "metadata": {
        "colab": {
          "base_uri": "https://localhost:8080/"
        },
        "id": "C9LtToz-MAsB",
        "outputId": "b0d3c74a-b24e-4fcb-dbe3-0fd9280d4d01"
      },
      "execution_count": null,
      "outputs": [
        {
          "output_type": "stream",
          "name": "stdout",
          "text": [
            "4\n",
            "4\n",
            "2\n"
          ]
        }
      ]
    },
    {
      "cell_type": "code",
      "source": [
        "for x in range(2):\n",
        "  print(x)"
      ],
      "metadata": {
        "id": "hYPhaKkpM8Rr"
      },
      "execution_count": null,
      "outputs": []
    },
    {
      "cell_type": "code",
      "source": [
        "def isPrime(n):\n",
        "  factor = 0\n",
        "  for i in range(1,n+1):\n",
        "    if n%i==0:\n",
        "      factor = factor + 1\n",
        "  \n",
        "  if factor == 2:\n",
        "    return True\n",
        "  else: \n",
        "    return False"
      ],
      "metadata": {
        "id": "7xPJHGVFM-Kz"
      },
      "execution_count": null,
      "outputs": []
    },
    {
      "cell_type": "code",
      "source": [
        "for i in range(1,100):\n",
        "  print(i,isPrime(i))"
      ],
      "metadata": {
        "id": "bztVjR88Ojau"
      },
      "execution_count": null,
      "outputs": []
    },
    {
      "cell_type": "code",
      "source": [],
      "metadata": {
        "id": "pUvtPwZiPIIY"
      },
      "execution_count": null,
      "outputs": []
    }
  ]
}