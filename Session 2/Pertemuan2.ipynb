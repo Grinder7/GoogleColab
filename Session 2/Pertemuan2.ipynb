{
  "nbformat": 4,
  "nbformat_minor": 0,
  "metadata": {
    "colab": {
      "provenance": [],
      "authorship_tag": "ABX9TyMFvWV1NWPmYLxKNrEWVbGZ",
      "include_colab_link": true
    },
    "kernelspec": {
      "name": "python3",
      "display_name": "Python 3"
    },
    "language_info": {
      "name": "python"
    }
  },
  "cells": [
    {
      "cell_type": "markdown",
      "metadata": {
        "id": "view-in-github",
        "colab_type": "text"
      },
      "source": [
        "<a href=\"https://colab.research.google.com/github/Grinder7/GoogleColab/blob/main/Session%202/Pertemuan2.ipynb\" target=\"_parent\"><img src=\"https://colab.research.google.com/assets/colab-badge.svg\" alt=\"Open In Colab\"/></a>"
      ]
    },
    {
      "cell_type": "code",
      "execution_count": 1,
      "metadata": {
        "id": "2xmRy32499HY"
      },
      "outputs": [],
      "source": [
        "import numpy as np"
      ]
    },
    {
      "cell_type": "code",
      "source": [
        "help(np.sum)"
      ],
      "metadata": {
        "colab": {
          "base_uri": "https://localhost:8080/"
        },
        "id": "s7Q_WzHgC4wA",
        "outputId": "3b5be50d-0a65-441a-ceab-be7bbc8bf60d"
      },
      "execution_count": 16,
      "outputs": [
        {
          "output_type": "stream",
          "name": "stdout",
          "text": [
            "Help on function sum in module numpy:\n",
            "\n",
            "sum(a, axis=None, dtype=None, out=None, keepdims=<no value>, initial=<no value>, where=<no value>)\n",
            "    Sum of array elements over a given axis.\n",
            "    \n",
            "    Parameters\n",
            "    ----------\n",
            "    a : array_like\n",
            "        Elements to sum.\n",
            "    axis : None or int or tuple of ints, optional\n",
            "        Axis or axes along which a sum is performed.  The default,\n",
            "        axis=None, will sum all of the elements of the input array.  If\n",
            "        axis is negative it counts from the last to the first axis.\n",
            "    \n",
            "        .. versionadded:: 1.7.0\n",
            "    \n",
            "        If axis is a tuple of ints, a sum is performed on all of the axes\n",
            "        specified in the tuple instead of a single axis or all the axes as\n",
            "        before.\n",
            "    dtype : dtype, optional\n",
            "        The type of the returned array and of the accumulator in which the\n",
            "        elements are summed.  The dtype of `a` is used by default unless `a`\n",
            "        has an integer dtype of less precision than the default platform\n",
            "        integer.  In that case, if `a` is signed then the platform integer\n",
            "        is used while if `a` is unsigned then an unsigned integer of the\n",
            "        same precision as the platform integer is used.\n",
            "    out : ndarray, optional\n",
            "        Alternative output array in which to place the result. It must have\n",
            "        the same shape as the expected output, but the type of the output\n",
            "        values will be cast if necessary.\n",
            "    keepdims : bool, optional\n",
            "        If this is set to True, the axes which are reduced are left\n",
            "        in the result as dimensions with size one. With this option,\n",
            "        the result will broadcast correctly against the input array.\n",
            "    \n",
            "        If the default value is passed, then `keepdims` will not be\n",
            "        passed through to the `sum` method of sub-classes of\n",
            "        `ndarray`, however any non-default value will be.  If the\n",
            "        sub-class' method does not implement `keepdims` any\n",
            "        exceptions will be raised.\n",
            "    initial : scalar, optional\n",
            "        Starting value for the sum. See `~numpy.ufunc.reduce` for details.\n",
            "    \n",
            "        .. versionadded:: 1.15.0\n",
            "    \n",
            "    where : array_like of bool, optional\n",
            "        Elements to include in the sum. See `~numpy.ufunc.reduce` for details.\n",
            "    \n",
            "        .. versionadded:: 1.17.0\n",
            "    \n",
            "    Returns\n",
            "    -------\n",
            "    sum_along_axis : ndarray\n",
            "        An array with the same shape as `a`, with the specified\n",
            "        axis removed.   If `a` is a 0-d array, or if `axis` is None, a scalar\n",
            "        is returned.  If an output array is specified, a reference to\n",
            "        `out` is returned.\n",
            "    \n",
            "    See Also\n",
            "    --------\n",
            "    ndarray.sum : Equivalent method.\n",
            "    \n",
            "    add.reduce : Equivalent functionality of `add`.\n",
            "    \n",
            "    cumsum : Cumulative sum of array elements.\n",
            "    \n",
            "    trapz : Integration of array values using the composite trapezoidal rule.\n",
            "    \n",
            "    mean, average\n",
            "    \n",
            "    Notes\n",
            "    -----\n",
            "    Arithmetic is modular when using integer types, and no error is\n",
            "    raised on overflow.\n",
            "    \n",
            "    The sum of an empty array is the neutral element 0:\n",
            "    \n",
            "    >>> np.sum([])\n",
            "    0.0\n",
            "    \n",
            "    For floating point numbers the numerical precision of sum (and\n",
            "    ``np.add.reduce``) is in general limited by directly adding each number\n",
            "    individually to the result causing rounding errors in every step.\n",
            "    However, often numpy will use a  numerically better approach (partial\n",
            "    pairwise summation) leading to improved precision in many use-cases.\n",
            "    This improved precision is always provided when no ``axis`` is given.\n",
            "    When ``axis`` is given, it will depend on which axis is summed.\n",
            "    Technically, to provide the best speed possible, the improved precision\n",
            "    is only used when the summation is along the fast axis in memory.\n",
            "    Note that the exact precision may vary depending on other parameters.\n",
            "    In contrast to NumPy, Python's ``math.fsum`` function uses a slower but\n",
            "    more precise approach to summation.\n",
            "    Especially when summing a large number of lower precision floating point\n",
            "    numbers, such as ``float32``, numerical errors can become significant.\n",
            "    In such cases it can be advisable to use `dtype=\"float64\"` to use a higher\n",
            "    precision for the output.\n",
            "    \n",
            "    Examples\n",
            "    --------\n",
            "    >>> np.sum([0.5, 1.5])\n",
            "    2.0\n",
            "    >>> np.sum([0.5, 0.7, 0.2, 1.5], dtype=np.int32)\n",
            "    1\n",
            "    >>> np.sum([[0, 1], [0, 5]])\n",
            "    6\n",
            "    >>> np.sum([[0, 1], [0, 5]], axis=0)\n",
            "    array([0, 6])\n",
            "    >>> np.sum([[0, 1], [0, 5]], axis=1)\n",
            "    array([1, 5])\n",
            "    >>> np.sum([[0, 1], [np.nan, 5]], where=[False, True], axis=1)\n",
            "    array([1., 5.])\n",
            "    \n",
            "    If the accumulator is too small, overflow occurs:\n",
            "    \n",
            "    >>> np.ones(128, dtype=np.int8).sum(dtype=np.int8)\n",
            "    -128\n",
            "    \n",
            "    You can also start the sum with a value other than zero:\n",
            "    \n",
            "    >>> np.sum([10], initial=5)\n",
            "    15\n",
            "\n"
          ]
        }
      ]
    },
    {
      "cell_type": "code",
      "source": [
        "# ALL\n",
        "\n",
        "# a = [[8, 3, -3], [-2, -8, 5], [3, 5, 10]]\n",
        "a = np.array([[8, 3, -3], [-2, -8, 5], [3, 5, 10]])\n",
        "diag = np.diag(np.abs(a))\n",
        "off_diag = np.sum(np.abs(a), axis = 1) - diag\n",
        "print(f'a = \\n {a}')\n",
        "print(f'diag = \\n {diag}')\n",
        "print(f'off_diag = \\b {off_diag}')\n"
      ],
      "metadata": {
        "colab": {
          "base_uri": "https://localhost:8080/"
        },
        "id": "XZrqnyHb_JZm",
        "outputId": "8a12f005-c380-4877-b68a-7000ce18b9cd"
      },
      "execution_count": 5,
      "outputs": [
        {
          "output_type": "stream",
          "name": "stdout",
          "text": [
            "a = \n",
            " [[ 8  3 -3]\n",
            " [-2 -8  5]\n",
            " [ 3  5 10]]\n",
            "diag = \n",
            " [ 8  8 10]\n",
            "off_diag = \b [6 7 8]\n"
          ]
        }
      ]
    },
    {
      "cell_type": "markdown",
      "source": [
        "Per Line"
      ],
      "metadata": {
        "id": "cJLaLeYsBn6Z"
      }
    },
    {
      "cell_type": "code",
      "source": [
        "# a = [[8, 3, -3], [-2, -8, 5], [3, 5, 10]]\n",
        "a = np.array([[8, 3, -3], [-2, -8, 5], [3, 5, 10]])\n",
        "print(a)"
      ],
      "metadata": {
        "colab": {
          "base_uri": "https://localhost:8080/"
        },
        "id": "obrL9sSBBjEm",
        "outputId": "9fdff197-733e-4c54-e77a-d9744f0cbdcf"
      },
      "execution_count": 14,
      "outputs": [
        {
          "output_type": "stream",
          "name": "stdout",
          "text": [
            "[[ 8  3 -3]\n",
            " [-2 -8  5]\n",
            " [ 3  5 10]]\n"
          ]
        }
      ]
    },
    {
      "cell_type": "code",
      "source": [
        "diag = np.diag(np.abs(a))\n",
        "print(diag)"
      ],
      "metadata": {
        "colab": {
          "base_uri": "https://localhost:8080/"
        },
        "id": "nLVwInpXBsT-",
        "outputId": "257df399-f50e-44b3-dd4f-612a25c99f5f"
      },
      "execution_count": 11,
      "outputs": [
        {
          "output_type": "stream",
          "name": "stdout",
          "text": [
            "[ 8  8 10]\n"
          ]
        }
      ]
    },
    {
      "cell_type": "code",
      "source": [
        "off_diag = np.sum(np.abs(a), axis = 1) - diag\n",
        "# test1 = np.sum(np.abs(a), axis = 1)\n",
        "# print(f'test1 = \\n{test1}')\n",
        "# test2 = np.sum(np.abs(a), axis = 0)\n",
        "# print(f'test2 = \\n{test2}')\n",
        "# test3 = np.sum(np.abs(a), axis = 3)\n",
        "# print(f'test2 = \\n{test3}')\n",
        "print(off_diag)"
      ],
      "metadata": {
        "colab": {
          "base_uri": "https://localhost:8080/"
        },
        "id": "yDbExv1fBxSf",
        "outputId": "0ff69fc8-7cd1-4318-e465-fcea20e4e618"
      },
      "execution_count": 19,
      "outputs": [
        {
          "output_type": "stream",
          "name": "stdout",
          "text": [
            "[6 7 8]\n"
          ]
        }
      ]
    },
    {
      "cell_type": "code",
      "source": [
        "if np.all(diag > off_diag):\n",
        "  print(\"Matrix diagonally dominant\")\n",
        "else:\n",
        "  print(\"Matrix not diagonally dominant\")"
      ],
      "metadata": {
        "colab": {
          "base_uri": "https://localhost:8080/"
        },
        "id": "5ogq-29vB6Qy",
        "outputId": "55572c05-74d3-456f-a871-4216c767bc46"
      },
      "execution_count": 13,
      "outputs": [
        {
          "output_type": "stream",
          "name": "stdout",
          "text": [
            "Matrix diagonally dominant\n"
          ]
        }
      ]
    },
    {
      "cell_type": "code",
      "source": [
        "x1 = 0\n",
        "x2 = 0\n",
        "x3 = 0\n",
        "epsilon = 0.01\n",
        "converged = False\n",
        "\n",
        "x_old = np.array([x1, x2, x3])\n",
        "print(x_old)"
      ],
      "metadata": {
        "colab": {
          "base_uri": "https://localhost:8080/"
        },
        "id": "J7aC0-NbCghI",
        "outputId": "43cbdb51-d1c3-4de4-9977-521b377ba91a"
      },
      "execution_count": 38,
      "outputs": [
        {
          "output_type": "execute_result",
          "data": {
            "text/plain": [
              "array([0, 0, 0])"
            ]
          },
          "metadata": {},
          "execution_count": 38
        }
      ]
    },
    {
      "cell_type": "code",
      "source": [
        "print(\"Iteration results\")\n",
        "print(\"k,   x1,      x2,      x3,   epsilon(k)  \")\n",
        "for k in range(1, 50):\n",
        "  x1 = (14-3*x2+3*x3)/8\n",
        "  x2 = (5+2*x1-5*x3)/-8\n",
        "  x3 = (-8-3*x1-5*x2)/10\n",
        "  x = np.array([x1, x2, x3])\n",
        "  # Check if its smaller than treshold\n",
        "  dx = np.sqrt(np.dot(x-x_old,x-x_old))\n",
        "  print(\"%d, %.4f, %.4f, %.4f, %.4f\"%(k, x1, x2, x3, dx))\n",
        "  if dx < epsilon:\n",
        "    converged = True\n",
        "    print(\"Converged!\")\n",
        "    xh = x\n",
        "    break\n",
        "  #assign  the latest x\n",
        "  x_old = x\n",
        "\n",
        "if not converged:\n",
        "  print(\"Not converged, increase the # of iteration\")"
      ],
      "metadata": {
        "colab": {
          "base_uri": "https://localhost:8080/"
        },
        "id": "Gp_8i1BzEvW4",
        "outputId": "1f8429dd-b6f1-41a6-ba06-78277aded3cd"
      },
      "execution_count": 39,
      "outputs": [
        {
          "output_type": "stream",
          "name": "stdout",
          "text": [
            "Iteration results\n",
            "k,   x1,      x2,      x3,   epsilon(k)  \n",
            "1, 1.7500, -1.0625, -0.7937, 2.1958\n",
            "2, 1.8508, -1.5838, -0.5633, 0.5788\n",
            "3, 2.1327, -1.5103, -0.6847, 0.3156\n",
            "4, 2.0596, -1.5678, -0.6340, 0.1059\n",
            "5, 2.1002, -1.5463, -0.6569, 0.0514\n",
            "6, 2.0835, -1.5565, -0.6468, 0.0220\n",
            "7, 2.0911, -1.5520, -0.6513, 0.0099\n",
            "Converged!\n"
          ]
        }
      ]
    },
    {
      "cell_type": "code",
      "source": [
        "xh1 = 8 * x[0] + 3 * x[1] - 3 * x[2]\n",
        "xh2 = -2 * x[0] - 8 * x[1] + 5 * x[2]\n",
        "xh3 = 3 * x[0] + 5 * x[1] + 10 * x[2]\n",
        "print(f'1: {xh1}\\n2: {xh2}\\n3:{xh3}')\n"
      ],
      "metadata": {
        "colab": {
          "base_uri": "https://localhost:8080/"
        },
        "id": "lJ9reoIxH3-B",
        "outputId": "60b46b4b-4e32-4603-ccab-6ef9ecd4438e"
      },
      "execution_count": 33,
      "outputs": [
        {
          "output_type": "stream",
          "name": "stdout",
          "text": [
            "1: 14.02667314511357\n",
            "2: 4.97758230154049\n",
            "3:-8.0\n"
          ]
        }
      ]
    },
    {
      "cell_type": "code",
      "source": [
        "# 9x1 + 1x2 - 7x3 = 14\n",
        "# -2x1 + x2 + 5x3 = 5\n",
        "# 3x1 - 6x2 + x3 = -8\n",
        "\n",
        "a = np.array([[9 ,1 ,-7], [-2, 1, 5], [3, -6, 1]])\n",
        "off_diag = np.sum(np.abs(a), axis = 1) - diag\n",
        "\n",
        "if np.all(diag > off_diag):\n",
        "  print(\"Matrix diagonally dominant\")\n",
        "else:\n",
        "  print(\"Matrix not diagonally dominant\")\n",
        "\n",
        "x1 = 0\n",
        "x2 = 0\n",
        "x3 = 0\n",
        "epsilon = 0.01\n",
        "converged = False\n",
        "\n",
        "x_old = np.array([x1, x2, x3])\n",
        "\n",
        "# 9x1 + 1x2 - 7x3 = 14\n",
        "# -2x1 + x2 + 5x3 = 5\n",
        "# 3x1 - 6x2 + x3 = -8\n",
        "print(\"Iteration results\")\n",
        "print(\"k,   x1,      x2,      x3,   epsilon(k)  \")\n",
        "for k in range(1, 50):\n",
        "  x1 = (14 - x2 + 7 * x3)/9\n",
        "  x2 = (5 + 2 * x1 - 5 * x3)/1\n",
        "  x3 = (-8 - 3 * x1 + 6 * x2)/1\n",
        "  x = np.array([x1, x2, x3])\n",
        "  # Check if its smaller than treshold\n",
        "  dx = np.sqrt(np.dot(x-x_old,x-x_old))\n",
        "  print(\"%d, %.4f, %.4f, %.4f, %.4f\"%(k, x1, x2, x3, dx))\n",
        "  if dx < epsilon:\n",
        "    converged = True\n",
        "    print(\"Converged!\")\n",
        "    xh = x\n",
        "    break\n",
        "  #assign  the latest x\n",
        "  x_old = x\n",
        "\n",
        "if not converged:\n",
        "  print(\"Not converged, increase the # of iteration\")"
      ],
      "metadata": {
        "colab": {
          "base_uri": "https://localhost:8080/"
        },
        "id": "sSlUGdVyLXP9",
        "outputId": "f9cf6b21-fb7a-40ea-92e3-9593f538d6e0"
      },
      "execution_count": 45,
      "outputs": [
        {
          "output_type": "stream",
          "name": "stdout",
          "text": [
            "Matrix not diagonally dominant\n",
            "Iteration results\n",
            "k,   x1,      x2,      x3,   epsilon(k)  \n",
            "1, 1.5556, 8.1111, 36.0000, 36.9352\n",
            "2, 28.6543, -117.6914, -800.1111, 845.9565\n",
            "3, -607.6763, 2790.2030, 18556.2469, 19583.9057\n",
            "4, 14124.1695, -64527.8956, -429547.8820, 453371.8827\n",
            "5, -326921.4754, 1493901.4593, 9944165.1823, 10495662.7674\n",
            "6, 7568363.2019, -34584094.5077, -230209664.6520, 242976993.3496\n",
            "7, -175209282.6729, 800629762.9142, 5329406417.5038, 5624972963.1729\n",
            "8, 4056135019.2902, -18534762043.9383, -123376977329.5007, 130219410489.2102\n",
            "9, -93900453249.8407, 429083980152.8221, 2856205240658.4551, 3014609133088.5938\n",
            "10, 2173816967163.3740, -9933392268960.5273, -66121804515261.2891, 69788890850908.6641\n",
            "11, -50324359926428.2812, 229960302723454.8750, 1530734896120006.0000, 1615628783427064.5000\n",
            "12, 1165020441124067.0000, -5323633598351891.0000, -35436862913483552.0000, 37402175819276976.0000\n",
            "13, -26970489644003664.0000, 123243335279410432.0000, 820371480608473600.0000, 865868923830831232.0000\n",
            "14, 624373003219989504.0000, -2853111396602388992.0000, -18991787389274304512.0000, 20045063604817178624.0000\n",
            "15, -14454377814257524736.0000, 66050181317856477184.0000, 439664221349911461888.0000, 464047806616592056320.0000\n",
            "16, 334622152014613774336.0000, -1529076802720329891840.0000, -10178327272365821526016.0000, 10742812847643943763968.0000\n",
            "17, -7746579344871157399552.0000, 35398477672086797025280.0000, 235630604067134242816000.0000, 248698574228703976357888.0000\n",
            "18, 179335083421983622299648.0000, -819482853491704003035136.0000, -5454902371216174113357824.0000, 5757428869009384954396672.0000\n",
            "19, -4151648193891279212380160.0000, 18971215468298313215770624.0000, 126282237391463718542376960.0000, 133285795001058991552856064.0000\n",
            "20, 96111605141327520246792192.0000, -439187976674663535038431232.0000, -2923462675471963685071618048.0000, 3085596635798465448536702976.0000\n",
            "21, -2225005639069898013669326848.0000, 10167302099220020748751994880.0000, 67678829512529816884252508160.0000, 71432267772984813838900658176.0000\n",
            "22, 51509389387609850873177440256.0000, -235375368787429356286628593664.0000, -1566780380887405655154931793920.0000, 1653673335001872041792046628864.0000\n",
            "23, -1192454144158267670392138104832.0000, 5448993616120492653515406049280.0000, 36271324129197760621118710874112.0000, 38282915888755158572226605744128.0000\n",
            "24, 27605586143140422991613068836864.0000, -126145448359707957122367416696832.0000, -839689448587669074759438489878528.0000, 886258257858311190631030636675072.0000\n",
            "25, -639075632417108374226146489794560.0000, 2920295978104128769460087545659392.0000, 19439002765876098027669340895051776.0000, 20517081350450636739237779578290176.0000\n",
            "26, 14794747042558728346486921056223232.0000, -67605519744263038057058880790200320.0000, -450017359593254473333732287465914368.0000, 474975125375145504308324747790254080.0000\n",
            "27, -342501777489835344448333159025606656.0000, 1565083242986601677771995119278358528.0000, 10418004790389115583468136128879525888.0000, 10995782775905406087781889815632412672.0000\n",
            "28, 7928994476637467817553778841822953472.0000, -36232034998670639921049881525929115648.0000, -241179193421936218186536590615406182400.0000, 254554885920400239400539003754312105984.0000\n",
            "29, -183558035439431464463492021188879712256.0000, 838779896230818275342494499570756616192.0000, 5583353483703203629877192568462400028672.0000, 5893003823969452269055181397290632871936.0000\n",
            "30, 4249410498854623048447700931480370806784.0000, -19417946420806770843564741364722083823616.0000, -129255910021404496624583190212031964774400.0000, 136424386213423274597533075297920968818688.0000\n",
            "31, -98374824858780514239696126087026054266880.0000, 449529900389461473986336812720174510637056.0000, 2992303876913110618750866620590926770208768.0000, 3158255740138436285523046857006728630763520.0000\n",
            "32, 2277399693111367923316075602743441028546560.0000, -10406719998342817247122181897467751793950720.0000, -69272519069391009109591377121107246198030336.0000, 73114342655081312231855023109426997027143680.0000\n",
            "33, -52722323720821575381479477472707539126714368.0000, 240917947905311894784997930660121152736722944.0000, 1603674658594336055240344759246680737028505600.0000, 1692613753201101883151761098659501315161325568.0000\n",
            "34, 1220533851361671117349169061734754137996787712.0000, -5577305590248338041503385672763895409148952576.0000, -37125435095575041284155171164730284494708277248.0000, 39184395475467125617031106920719865721825263616.0000\n",
            "35, -28255637786530773102184568192845533809519624192.0000, 129115899904813670357611521263795566828127780864.0000, 859462312788474376946439638551733244305015308288.0000, 907127716452734878080645249095728745091442933760.0000\n",
            "36, 654124476623834130121284665012782375864388026368.0000, -2989062610694703462230352033519738078218290200576.0000, -19896749094039723488264519854583502380058925858816.0000, 21000214089609951140908022225590772192272537616384.0000\n",
            "37, -15143131227509263265900409118628852771583413977088.0000, 69197483015180096101818639570487434887624130560000.0000, 460614291773608413139284791592259824414961988272128.0000, 486159758775743252626320141370833662535832772280320.0000\n",
            "38, 350566951044453145310807799922392694905606093406208.0000, -1601937556779135858151558094673755788751539022069760.0000, -10663326193808174792533646309202817958445905581441024.0000, 11254709596976245636646896545955538763415075778723840.0000\n",
            "39, -8115705088875342818159441494015910259856382728601600.0000, 37085220791290190984805340127814015080130883010691072.0000, 246858440014367179680222348388595312875582687371329536.0000, 260549101042933280793660861618049837816907831242129408.0000\n",
            "40, 187880428812142223734181251910635362099629501930536960.0000, -858531342447551536003340968356321706022306290937626624.0000, -5714829341121735908490237498428490288893639215902883840.0000, 6031771274890934720130747012037523682284095483792064512.0000\n",
            "41, -4349474893933844538252824698162055634039665612854132736.0000, 19875196917740990465945538095818340176388864853806153728.0000, 132299606188247460757442824306226888645220244100061593600.0000, 139636884437395682484952356239312746330681768839256997888.0000\n",
            "42, 100691338488887907117491323610285497773137166448759668736.0000, -460115353963461554886445923130748432647751514502285230080.0000, -3062766139247432898224649129034915457614096456927831654400.0000, 3232625808699148529271412925794342272931816682172182429696.0000\n",
            "43, -2331027513418729801112486932172464432323058518755173728256.0000, 10651775669399705585796559234911621596415561267390107877376.0000, 70903736556654421872769385024864163115975749130214222856192.0000, 74836026750173470979012490632299996882399759387505696178176.0000\n",
            "44, 53963820025242365172210359263080890878102406642082454175744.0000, -246591042732787390169798805863470604591533068691086958919680.0000, -1641437716472451659542875898276297715540688358556384175849472.0000, 1732471133739529526008823940131215932950534331318780643246080.0000\n",
            "45, -1249274774730486129251292313372976149854828099159420613689344.0000, 5708639032901285325587948511655595748850800869715511460495360.0000, 37999658521599171768529260716012384000955258965266466986786816.0000, 40107102950034342074704058986905388970930428853751938986016768.0000\n",
            "46, 28920996735365874598021189989968322043631665500367265911013376.0000, -132156299137264121064585465247804324383800719421558894173880320.0000, -879700785029682338763594819809051863967411557434494071714349056.0000, 928488605505676194599459717561111999579252601650239668934934528.0000\n",
            "47, -669527688452279146532051947033514779353978524021740683799822336.0000, 3059448548243853766129279537703959312050308918199743904955236352.0000, 20365274354819960493091094733231462149015299305102129123609804800.0000, 21494723556270648847394209147455902198463119256383476296767766528.0000\n",
            "48, 15499719103943985358222971807112595280819105944581348922708983808.0000, -70826933566211834672012804713737956590807950068913987084496142336.0000, -471460758709102987490771940998212216646262341707756283770024493056.0000, 497607766019775728963159608026087749918842470662871032869658034176.0000\n",
            "49, -358822041933056574588832841272392702774317526191943695253928673280.0000, 1639659709679401788276194022446275677682676656154894028342265118720.0000, 10914424383875580874336134209794872617080244337794704916723949109248.0000, 11519733582754340811006564969715762132805607375790225489000205910016.0000\n",
            "Not converged, increase the # of iteration\n"
          ]
        }
      ]
    },
    {
      "cell_type": "code",
      "source": [
        "# 9x1 + 10x2 - 7x3 = 14\n",
        "# -2x1 + 8x2 + 5x3 = 5\n",
        "# 3x1 + 5x2 + 10x3 = -8\n",
        "\n",
        "a = np.array([[9 ,1 ,-7], [-2, 1, 5], [3, -6, 1]])\n",
        "off_diag = np.sum(np.abs(a), axis = 1) - diag\n",
        "\n",
        "if np.all(diag > off_diag):\n",
        "  print(\"Matrix diagonally dominant\")\n",
        "else:\n",
        "  print(\"Matrix not diagonally dominant\")\n",
        "\n",
        "x1 = 0\n",
        "x2 = 0\n",
        "x3 = 0\n",
        "epsilon = 0.01\n",
        "converged = False\n",
        "\n",
        "x_old = np.array([x1, x2, x3])\n",
        "\n",
        "# 9x1 + 10x2 - 7x3 = 14\n",
        "# -2x1 + 8x2 + 5x3 = 5\n",
        "# 3x1 + 5x2 + 10x3 = -8\n",
        "print(\"Iteration results\")\n",
        "print(\"k,   x1,      x2,      x3,   epsilon(k)  \")\n",
        "for k in range(1, 50):\n",
        "  x1 = (14 - 10 * x2 + 7 * x3)/9\n",
        "  x2 = (5 + 2 * x1 - 5 * x3)/8\n",
        "  x3 = (-8 - 3 * x1 - 5 * x2)/10\n",
        "  x = np.array([x1, x2, x3])\n",
        "  # Check if its smaller than treshold\n",
        "  dx = np.sqrt(np.dot(x-x_old,x-x_old))\n",
        "  print(\"%d, %.4f, %.4f, %.4f, %.4f\"%(k, x1, x2, x3, dx))\n",
        "  if dx < epsilon:\n",
        "    converged = True\n",
        "    print(\"Converged!\")\n",
        "    xh = x\n",
        "    break\n",
        "  #assign  the latest x\n",
        "  x_old = x\n",
        "\n",
        "if not converged:\n",
        "  print(\"Not converged, increase the # of iteration\")"
      ],
      "metadata": {
        "colab": {
          "base_uri": "https://localhost:8080/"
        },
        "id": "R1kx-83ONkY1",
        "outputId": "68fad6b5-7c54-421f-f9b2-c87d4c1fd107"
      },
      "execution_count": 46,
      "outputs": [
        {
          "output_type": "stream",
          "name": "stdout",
          "text": [
            "Matrix not diagonally dominant\n",
            "Iteration results\n",
            "k,   x1,      x2,      x3,   epsilon(k)  \n",
            "1, 1.5556, 1.0139, -1.7736, 2.5678\n",
            "2, -0.9505, 1.4959, -1.2628, 2.6026\n",
            "3, -1.0887, 1.1421, -1.0444, 0.4382\n",
            "4, -0.5257, 1.1463, -1.2154, 0.5884\n",
            "5, -0.6635, 1.2188, -1.2103, 0.1557\n",
            "6, -0.7400, 1.1965, -1.1762, 0.0867\n",
            "7, -0.6887, 1.1880, -1.1874, 0.0532\n",
            "8, -0.6879, 1.1951, -1.1912, 0.0081\n",
            "Converged!\n"
          ]
        }
      ]
    },
    {
      "cell_type": "code",
      "source": [
        "A = np.array([[4, 3, -5],\n",
        "              [-2, -4, 5],\n",
        "              [8, 8, 0]])\n",
        "y = np.array([2, 5, -3])\n",
        "x = np.linalg.solve(A, y)\n",
        "print(x)"
      ],
      "metadata": {
        "colab": {
          "base_uri": "https://localhost:8080/"
        },
        "id": "ujDHFIkcOKb4",
        "outputId": "ac6359f9-16ae-4b30-e688-1a2603ea39d3"
      },
      "execution_count": 48,
      "outputs": [
        {
          "output_type": "stream",
          "name": "stdout",
          "text": [
            "[ 2.20833333 -2.58333333 -0.18333333]\n"
          ]
        }
      ]
    },
    {
      "cell_type": "code",
      "source": [
        "# a = np.array([[8, 3, -3], [-2, -8, 5], [3, 5, 10]])\n",
        "a = np.array([[9 ,1 ,-7], [-2, 1, 5], [3, -6, 1]])\n",
        "# y = np.array([14, 5, -8])\n",
        "y = np.array([14, 5, -8])\n",
        "x = np.linalg.solve(a, y)\n",
        "print(x)"
      ],
      "metadata": {
        "colab": {
          "base_uri": "https://localhost:8080/"
        },
        "id": "M49bFMlQOvPg",
        "outputId": "0bd4a331-658c-4e4d-8f59-7ffec555d3b7"
      },
      "execution_count": 51,
      "outputs": [
        {
          "output_type": "stream",
          "name": "stdout",
          "text": [
            "[2.3304721  2.72961373 1.38626609]\n"
          ]
        }
      ]
    }
  ]
}