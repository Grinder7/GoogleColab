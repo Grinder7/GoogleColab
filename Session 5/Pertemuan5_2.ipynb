{
  "nbformat": 4,
  "nbformat_minor": 0,
  "metadata": {
    "colab": {
      "provenance": [],
      "authorship_tag": "ABX9TyMnUSdjXCybhmpgenrQnM24",
      "include_colab_link": true
    },
    "kernelspec": {
      "name": "python3",
      "display_name": "Python 3"
    },
    "language_info": {
      "name": "python"
    }
  },
  "cells": [
    {
      "cell_type": "markdown",
      "metadata": {
        "id": "view-in-github",
        "colab_type": "text"
      },
      "source": [
        "<a href=\"https://colab.research.google.com/github/Grinder7/GoogleColab/blob/main/Session%205/Pertemuan5_2.ipynb\" target=\"_parent\"><img src=\"https://colab.research.google.com/assets/colab-badge.svg\" alt=\"Open In Colab\"/></a>"
      ]
    },
    {
      "cell_type": "code",
      "execution_count": 14,
      "metadata": {
        "id": "5OrCEdAJpn1W"
      },
      "outputs": [],
      "source": [
        "import numpy as np"
      ]
    },
    {
      "cell_type": "code",
      "source": [
        "a = 0\n",
        "b = np.pi\n",
        "# Iteration?\n",
        "n = 11\n",
        "h = (b - a) / (n - 1)\n",
        "# evenly space array (start, end, numOfData)\n",
        "x = np.linspace(a, b, n)\n",
        "f = np.sin(x)"
      ],
      "metadata": {
        "id": "meAFhnIOp4s4"
      },
      "execution_count": 15,
      "outputs": []
    },
    {
      "cell_type": "code",
      "source": [
        "I_riemannL = h * sum(f[:n-1])\n",
        "err_riemannL = 2 - I_riemannL\n",
        "\n",
        "I_riemannR = h * sum(f[1::])\n",
        "err_riemannR = 2 - I_riemannR\n",
        "\n",
        "I_mid = h * sum(np.sin((x[:n-1] + x[1:])/2))\n",
        "err_mid = 2 - I_mid\n",
        "\n",
        "print(f'I_riemannL: {I_riemannL}')\n",
        "print(f'err_riemannL: {err_riemannL}', end=\"\\n\\n\")\n",
        "\n",
        "print(f'I_riemannR: {I_riemannR}')\n",
        "print(f'err_riemannR: {err_riemannR}', end=\"\\n\\n\")\n",
        "\n",
        "print(f'I_mid: {I_mid}')\n",
        "print(f'err_mid: {err_mid}')"
      ],
      "metadata": {
        "colab": {
          "base_uri": "https://localhost:8080/"
        },
        "id": "uVZ4PWQEqCpL",
        "outputId": "4261bf27-0b83-42ae-a030-c782f175f934"
      },
      "execution_count": 16,
      "outputs": [
        {
          "output_type": "stream",
          "name": "stdout",
          "text": [
            "I_riemannL: 1.9835235375094546\n",
            "err_riemannL: 0.01647646249054535\n",
            "\n",
            "I_riemannR: 1.9835235375094546\n",
            "err_riemannR: 0.01647646249054535\n",
            "\n",
            "I_mid: 2.0082484079079745\n",
            "err_mid: -0.008248407907974542\n"
          ]
        }
      ]
    }
  ]
}